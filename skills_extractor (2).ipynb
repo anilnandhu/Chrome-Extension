{
 "cells": [
  {
   "cell_type": "code",
   "execution_count": null,
   "metadata": {},
   "outputs": [],
   "source": [
    "from pyresparser import ResumeParser\n",
    "import os\n",
    "from docx import Document\n",
    "\n",
    "# Supported formats\n",
    "SUPPORTED_FORMATS = ('.txt', '.docx', '.pdf')\n",
    "\n",
    "file_path = input(\"Enter resume file path (.txt/.docx/.pdf): \").strip()\n",
    "\n",
    "# Validate file format\n",
    "if not file_path.lower().endswith(SUPPORTED_FORMATS):\n",
    "    print(\"❌ Unsupported file format! Use only .txt, .docx, or .pdf\")\n",
    "    exit()\n",
    "\n",
    "try:\n",
    "    # Convert .txt to .docx\n",
    "    if file_path.endswith(\".txt\"):\n",
    "        doc = Document()\n",
    "        with open(file_path, 'r', encoding='utf-8') as file:\n",
    "            doc.add_paragraph(file.read())\n",
    "        file_path = \"converted_text.docx\"\n",
    "        doc.save(file_path)\n",
    "\n",
    "    # Extract resume data\n",
    "    data = ResumeParser(file_path).get_extracted_data()\n",
    "\n",
    "    # Print extracted data\n",
    "    if data:\n",
    "        print(\"\\n--- Extracted Resume Data ---\")\n",
    "        for key, value in data.items():\n",
    "            print(f\"{key.capitalize()}: {value}\")\n",
    "    else:\n",
    "        print(\"No data extracted.\")\n",
    "\n",
    "except Exception as e:\n",
    "    print(f\"Error processing resume: {e}\")\n"
   ]
  },
  {
   "cell_type": "code",
   "execution_count": null,
   "metadata": {},
   "outputs": [
    {
     "name": "stdout",
     "output_type": "stream",
     "text": [
      "cv.pdf\n"
     ]
    }
   ],
   "source": []
  },
  {
   "cell_type": "code",
   "execution_count": 15,
   "metadata": {},
   "outputs": [
    {
     "name": "stdout",
     "output_type": "stream",
     "text": [
      "['C', 'Statistics', 'Word', 'Database', 'Analysis', 'Engineering', 'C++', 'Html', 'Design', 'Pyqt', 'Css', 'Ui', 'Python', 'Modeling', 'Sci', 'Keras', 'Opencv', 'Coding', 'Algorithms', 'Prototype', 'Github', 'Chemicals', 'Machine learning', 'Programming', 'Testing', 'Training', 'Api']\n"
     ]
    }
   ],
   "source": [
    "try:\n",
    "    doc = Document()\n",
    "    with open(filed, 'r') as file:\n",
    "        doc.add_paragraph(file.read())\n",
    "    doc.save(\"text.docx\")\n",
    "    data = ResumeParser('text.docx').get_extracted_data()\n",
    "    print(data['skills'])\n",
    "except:\n",
    "    data = ResumeParser(filed).get_extracted_data()\n",
    "    print(data['skills'])"
   ]
  },
  {
   "cell_type": "code",
   "execution_count": null,
   "metadata": {},
   "outputs": [],
   "source": []
  },
  {
   "cell_type": "code",
   "execution_count": 13,
   "metadata": {},
   "outputs": [],
   "source": [
    "#K:\\resume_sample\\cv.pdf\n",
    "#K:\\resume_sample\\AmanSharma.pdf"
   ]
  },
  {
   "cell_type": "code",
   "execution_count": null,
   "metadata": {},
   "outputs": [],
   "source": []
  }
 ],
 "metadata": {
  "kernelspec": {
   "display_name": "Python 3",
   "language": "python",
   "name": "python3"
  },
  "language_info": {
   "codemirror_mode": {
    "name": "ipython",
    "version": 3
   },
   "file_extension": ".py",
   "mimetype": "text/x-python",
   "name": "python",
   "nbconvert_exporter": "python",
   "pygments_lexer": "ipython3",
   "version": "3.7.6"
  }
 },
 "nbformat": 4,
 "nbformat_minor": 4
}
